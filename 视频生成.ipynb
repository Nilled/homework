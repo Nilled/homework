{
 "cells": [
  {
   "cell_type": "code",
   "execution_count": 1,
   "id": "e47a9c72-f3d1-47a8-9ed4-6c4aabc221a4",
   "metadata": {
    "execution": {
     "iopub.execute_input": "2024-11-21T07:33:38.596683Z",
     "iopub.status.busy": "2024-11-21T07:33:38.596357Z",
     "iopub.status.idle": "2024-11-21T07:33:42.313752Z",
     "shell.execute_reply": "2024-11-21T07:33:42.312275Z",
     "shell.execute_reply.started": "2024-11-21T07:33:38.596656Z"
    },
    "tags": []
   },
   "outputs": [
    {
     "name": "stdout",
     "output_type": "stream",
     "text": [
      "Looking in indexes: https://repo.huaweicloud.com/repository/pypi/simple\n",
      "Collecting zhipuai\n",
      "  Downloading https://repo.huaweicloud.com/repository/pypi/packages/10/28/5c1efbfb560e64458b22e0442279af8bde673edcb096762a3aeccee3a8ec/zhipuai-2.1.5.20230904-py3-none-any.whl (104 kB)\n",
      "\u001b[2K     \u001b[90m━━━━━━━━━━━━━━━━━━━━━━━━━━━━━━━━━━━━━━━\u001b[0m \u001b[32m105.0/105.0 kB\u001b[0m \u001b[31m7.0 MB/s\u001b[0m eta \u001b[36m0:00:00\u001b[0m\n",
      "\u001b[?25hRequirement already satisfied: cachetools>=4.2.2 in /usr/local/lib/python3.8/site-packages (from zhipuai) (4.2.4)\n",
      "Collecting httpx>=0.23.0 (from zhipuai)\n",
      "  Downloading https://repo.huaweicloud.com/repository/pypi/packages/56/95/9377bcb415797e44274b51d46e3249eba641711cf3348050f76ee7b15ffc/httpx-0.27.2-py3-none-any.whl (76 kB)\n",
      "\u001b[2K     \u001b[90m━━━━━━━━━━━━━━━━━━━━━━━━━━━━━━━━━━━━━━━━\u001b[0m \u001b[32m76.4/76.4 kB\u001b[0m \u001b[31m28.7 MB/s\u001b[0m eta \u001b[36m0:00:00\u001b[0m\n",
      "\u001b[?25hCollecting pydantic<3.0,>=1.9.0 (from zhipuai)\n",
      "  Downloading https://repo.huaweicloud.com/repository/pypi/packages/df/e4/ba44652d562cbf0bf320e0f3810206149c8a4e99cdbf66da82e97ab53a15/pydantic-2.9.2-py3-none-any.whl (434 kB)\n",
      "\u001b[2K     \u001b[90m━━━━━━━━━━━━━━━━━━━━━━━━━━━━━━━━━━━━━━\u001b[0m \u001b[32m434.9/434.9 kB\u001b[0m \u001b[31m70.5 MB/s\u001b[0m eta \u001b[36m0:00:00\u001b[0m\n",
      "\u001b[?25hCollecting pydantic-core>=2.14.6 (from zhipuai)\n",
      "  Downloading https://repo.huaweicloud.com/repository/pypi/packages/8e/e1/bb637cf80583bf9058b8e5a7645cdc99a8adf3941a58329ced63f4c63843/pydantic_core-2.27.0-cp38-cp38-manylinux_2_17_x86_64.manylinux2014_x86_64.whl (2.1 MB)\n",
      "\u001b[2K     \u001b[90m━━━━━━━━━━━━━━━━━━━━━━━━━━━━━━━━━━━━━━━━\u001b[0m \u001b[32m2.1/2.1 MB\u001b[0m \u001b[31m87.6 MB/s\u001b[0m eta \u001b[36m0:00:00\u001b[0m\n",
      "\u001b[?25hCollecting pyjwt<2.9.0,>=2.8.0 (from zhipuai)\n",
      "  Downloading https://repo.huaweicloud.com/repository/pypi/packages/2b/4f/e04a8067c7c96c364cef7ef73906504e2f40d690811c021e1a1901473a19/PyJWT-2.8.0-py3-none-any.whl (22 kB)\n",
      "Requirement already satisfied: anyio in /usr/local/lib/python3.8/site-packages (from httpx>=0.23.0->zhipuai) (4.0.0)\n",
      "Requirement already satisfied: certifi in /usr/local/lib/python3.8/site-packages (from httpx>=0.23.0->zhipuai) (2023.7.22)\n",
      "Collecting httpcore==1.* (from httpx>=0.23.0->zhipuai)\n",
      "  Downloading https://repo.huaweicloud.com/repository/pypi/packages/87/f5/72347bc88306acb359581ac4d52f23c0ef445b57157adedb9aee0cd689d2/httpcore-1.0.7-py3-none-any.whl (78 kB)\n",
      "\u001b[2K     \u001b[90m━━━━━━━━━━━━━━━━━━━━━━━━━━━━━━━━━━━━━━━━\u001b[0m \u001b[32m78.6/78.6 kB\u001b[0m \u001b[31m39.5 MB/s\u001b[0m eta \u001b[36m0:00:00\u001b[0m\n",
      "\u001b[?25hRequirement already satisfied: idna in /usr/local/lib/python3.8/site-packages (from httpx>=0.23.0->zhipuai) (3.4)\n",
      "Requirement already satisfied: sniffio in /usr/local/lib/python3.8/site-packages (from httpx>=0.23.0->zhipuai) (1.3.0)\n",
      "Requirement already satisfied: h11<0.15,>=0.13 in /usr/local/lib/python3.8/site-packages (from httpcore==1.*->httpx>=0.23.0->zhipuai) (0.14.0)\n",
      "Collecting annotated-types>=0.6.0 (from pydantic<3.0,>=1.9.0->zhipuai)\n",
      "  Downloading https://repo.huaweicloud.com/repository/pypi/packages/78/b6/6307fbef88d9b5ee7421e68d78a9f162e0da4900bc5f5793f6d3d0e34fb8/annotated_types-0.7.0-py3-none-any.whl (13 kB)\n",
      "Collecting pydantic-core>=2.14.6 (from zhipuai)\n",
      "  Downloading https://repo.huaweicloud.com/repository/pypi/packages/a5/a4/229432a701acd98575b88ccaff82e8435c75c44cb30522004afb263e3756/pydantic_core-2.23.4-cp38-cp38-manylinux_2_17_x86_64.manylinux2014_x86_64.whl (2.1 MB)\n",
      "\u001b[2K     \u001b[90m━━━━━━━━━━━━━━━━━━━━━━━━━━━━━━━━━━━━━━━━\u001b[0m \u001b[32m2.1/2.1 MB\u001b[0m \u001b[31m93.7 MB/s\u001b[0m eta \u001b[36m0:00:00\u001b[0m\n",
      "\u001b[?25hRequirement already satisfied: typing-extensions>=4.6.1 in /usr/local/lib/python3.8/site-packages (from pydantic<3.0,>=1.9.0->zhipuai) (4.8.0)\n",
      "Requirement already satisfied: exceptiongroup>=1.0.2 in /usr/local/lib/python3.8/site-packages (from anyio->httpx>=0.23.0->zhipuai) (1.2.0)\n",
      "Installing collected packages: pyjwt, pydantic-core, httpcore, annotated-types, pydantic, httpx, zhipuai\n",
      "Successfully installed annotated-types-0.7.0 httpcore-1.0.7 httpx-0.27.2 pydantic-2.9.2 pydantic-core-2.23.4 pyjwt-2.8.0 zhipuai-2.1.5.20230904\n",
      "\u001b[33mWARNING: Running pip as the 'root' user can result in broken permissions and conflicting behaviour with the system package manager. It is recommended to use a virtual environment instead: https://pip.pypa.io/warnings/venv\u001b[0m\u001b[33m\n",
      "\u001b[0mNote: you may need to restart the kernel to use updated packages.\n"
     ]
    }
   ],
   "source": [
    "pip install zhipuai"
   ]
  },
  {
   "cell_type": "code",
   "execution_count": 31,
   "id": "d4a70d43-653b-46bf-b0f8-b6b0546a1ef9",
   "metadata": {
    "execution": {
     "iopub.execute_input": "2024-11-21T08:19:16.869438Z",
     "iopub.status.busy": "2024-11-21T08:19:16.868899Z",
     "iopub.status.idle": "2024-11-21T08:19:17.156606Z",
     "shell.execute_reply": "2024-11-21T08:19:17.155779Z",
     "shell.execute_reply.started": "2024-11-21T08:19:16.869396Z"
    },
    "tags": []
   },
   "outputs": [
    {
     "name": "stdout",
     "output_type": "stream",
     "text": [
      "VideoObject(id='38481732174219327-9221298735386537694', model='cogvideox', video_result=None, task_status='PROCESSING', request_id='-9221298735386537695')\n"
     ]
    }
   ],
   "source": [
    "from zhipuai import ZhipuAI\n",
    "client = ZhipuAI(api_key=\"6e340a54b824d8af72228e1994585010.ckCiCO8drV7jJ76X\")\n",
    "\n",
    "response=client.videos.generations(\n",
    "    model = \"cogvideox\",\n",
    "    prompt = \"一个身穿比基尼身姿曼妙的美女（主体）在沙滩上（环境描述）享受阳光浴（动作）\"\n",
    ")\n",
    "print(response)"
   ]
  },
  {
   "cell_type": "code",
   "execution_count": 30,
   "id": "924fab4b-4941-4741-8115-7b01832bc684",
   "metadata": {
    "execution": {
     "iopub.execute_input": "2024-11-21T08:14:33.057408Z",
     "iopub.status.busy": "2024-11-21T08:14:33.056854Z",
     "iopub.status.idle": "2024-11-21T08:14:33.166871Z",
     "shell.execute_reply": "2024-11-21T08:14:33.165580Z",
     "shell.execute_reply.started": "2024-11-21T08:14:33.057365Z"
    },
    "tags": []
   },
   "outputs": [
    {
     "name": "stdout",
     "output_type": "stream",
     "text": [
      "VideoObject(id=None, model='cogvideox', video_result=[VideoResult(url='https://aigc-files.bigmodel.cn/api/cogvideo/909bb6a8-a7e0-11ef-bd78-9ee7942420ea_0.mp4', cover_image_url='https://aigc-files.bigmodel.cn/api/cogvideo/909bb6a8-a7e0-11ef-bd78-9ee7942420ea_cover_0.jpeg')], task_status='SUCCESS', request_id='-9221326291898510593')\n"
     ]
    }
   ],
   "source": [
    "response=client.videos.retrieve_videos_result(\n",
    "        id=\"38481732174219327-9221298735386537694\"\n",
    ")\n",
    "\n",
    "print(response)\n",
    "\n"
   ]
  },
  {
   "cell_type": "code",
   "execution_count": null,
   "id": "d11a815c-f796-4e44-915f-99d564720c67",
   "metadata": {},
   "outputs": [],
   "source": []
  },
  {
   "cell_type": "code",
   "execution_count": null,
   "id": "9608796c-63e8-43e4-bb73-38083c7d80fb",
   "metadata": {},
   "outputs": [],
   "source": []
  },
  {
   "cell_type": "code",
   "execution_count": null,
   "id": "b98909fc-b903-48ff-acf2-2d13aa317c35",
   "metadata": {},
   "outputs": [],
   "source": []
  },
  {
   "cell_type": "code",
   "execution_count": null,
   "id": "529013d4-5d26-4d9b-8040-936ff56f9bd3",
   "metadata": {},
   "outputs": [],
   "source": []
  },
  {
   "cell_type": "code",
   "execution_count": null,
   "id": "29a84e86-db01-43af-9aca-cab211f8516e",
   "metadata": {},
   "outputs": [],
   "source": []
  },
  {
   "cell_type": "code",
   "execution_count": null,
   "id": "91de18f7-f25a-495c-9773-c4c82bf93436",
   "metadata": {},
   "outputs": [],
   "source": []
  }
 ],
 "metadata": {
  "kernelspec": {
   "display_name": "Python 3 (ipykernel)",
   "language": "python",
   "name": "python3"
  },
  "language_info": {
   "codemirror_mode": {
    "name": "ipython",
    "version": 3
   },
   "file_extension": ".py",
   "mimetype": "text/x-python",
   "name": "python",
   "nbconvert_exporter": "python",
   "pygments_lexer": "ipython3",
   "version": "3.8.18"
  }
 },
 "nbformat": 4,
 "nbformat_minor": 5
}
